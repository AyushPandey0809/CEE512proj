{
 "cells": [
  {
   "cell_type": "code",
   "execution_count": 349,
   "metadata": {},
   "outputs": [],
   "source": [
    "from collections import defaultdict\n",
    "import numpy as np\n",
    "import math\n",
    "import matplotlib.pyplot as plt\n",
    "rnd=np.random\n",
    "rnd.seed(4)\n",
    "\n",
    "class node:\n",
    "    def __init__(self, x, y,Type):\n",
    "        self.x = x\n",
    "        self.y = y\n",
    "        self.type=Type\n",
    "\n",
    "class edge:\n",
    "    def __init__(self, start, end):\n",
    "        self.start = start\n",
    "        self.end = end\n",
    "        self.cost = ((start.x-end.x)**2+(start.y-end.y)**2)**(1/2)\n",
    "\n",
    "class sol:\n",
    "    def __init__(self, nodes, edges, total_cost):\n",
    "        self.nodes = nodes      #array of nodes in solution\n",
    "        self.edges = edges      #array of edges in solution\n",
    "        self.total_cost = total_cost\n",
    "\n"
   ]
  },
  {
   "cell_type": "code",
   "execution_count": 350,
   "metadata": {},
   "outputs": [],
   "source": [
    "##Type 1 = Hospitals\n",
    "##type 2 = Green patients\n",
    "##Type 3 = Red Patients\n",
    "s0=[(0, 2), (0, 3),(1, 8), (2, 9), (3, 7), (4, 6), (5, 0), (6, 0), (7, 0), (8, 4), (9, 5)]\n",
    "\n",
    "n_g=6\n",
    "n_r=2\n",
    "n_h=2\n",
    "n_k=3\n",
    "total_nodes=n_g+n_r+n_h\n",
    "\n",
    "G=[]\n",
    "\n",
    "for i in range(total_nodes+1):\n",
    "    if i<n_h:\n",
    "        G.append(node(rnd.randint(20),rnd.randint(20),1))\n",
    "    elif i>=n_h and i<n_h+n_g:\n",
    "        G.append(node(rnd.randint(20),rnd.randint(20),2))\n",
    "    else:\n",
    "        G.append(node(rnd.randint(20),rnd.randint(20),3))\n",
    "\n",
    "A=[(i,j) for i in range(total_nodes+1) for j in range(total_nodes+1) if i!=j] #set of arcs\n",
    "\n",
    "E=[edge(G[i],G[j]) for i,j in A]\n",
    "\n",
    "def cost_solution(solution):\n",
    "    total_=0\n",
    "    for i,j in solution:\n",
    "        total_=total_+edge(G[i],G[j]).cost\n",
    "    print(total_)\n",
    "\n"
   ]
  },
  {
   "cell_type": "code",
   "execution_count": 351,
   "metadata": {},
   "outputs": [],
   "source": [
    "def sol_from_paths(paths):\n",
    "    sol=[]\n",
    "    for j in paths:\n",
    "        for i in range(len(paths[j])-1):\n",
    "            sol.append((paths[j][i],paths[j][i+1]))\n",
    "    return sol\n",
    "\n",
    "def extract_paths(solution): #SOLVE the empty dictionary\n",
    "    sol=solution\n",
    "    paths={i:[] for i in range(n_k)}\n",
    "    while len(sol)>0:\n",
    "        for j in range(n_k):\n",
    "            for i in sol: \n",
    "                if G[i[0]].type==1 and len(paths[j])==0:\n",
    "                    paths[j].append(i[0])\n",
    "                    paths[j].append(i[1])\n",
    "                    sol.remove(i)\n",
    "                if len(paths[j])>0:\n",
    "                    if i[0]==paths[j][-1]:\n",
    "                        paths[j].append(i[1])\n",
    "                        sol.remove(i)\n",
    "                        if G[i[1]].type==1:\n",
    "                            break\n",
    "    sol=sol_from_paths(paths)\n",
    "    return sol,paths"
   ]
  },
  {
   "cell_type": "code",
   "execution_count": 352,
   "metadata": {},
   "outputs": [
    {
     "name": "stdout",
     "output_type": "stream",
     "text": "[(0, 2), (2, 9), (9, 5), (5, 0), (0, 3), (3, 7), (7, 0), (1, 8), (8, 4), (4, 6), (6, 0)]\n"
    }
   ],
   "source": [
    "s0=[(0, 2), (0, 3),(1, 8), (2, 9), (3, 7), (4, 6), (5, 0), (6, 0), (7, 0), (8, 4), (9, 5)]\n",
    "print(extract_paths(s0)[0])\n",
    "s0=[(0, 2), (0, 3),(1, 8), (2, 9), (3, 7), (4, 6), (5, 0), (6, 0), (7, 0), (8, 4), (9, 5)]\n",
    "xx=extract_paths(s0)[1]"
   ]
  },
  {
   "cell_type": "code",
   "execution_count": 385,
   "metadata": {},
   "outputs": [],
   "source": [
    "def swapPositions(list, pos1, pos2): \n",
    "    list[pos1], list[pos2] = list[pos2], list[pos1] \n",
    "    return list\n",
    "\n",
    "def internal_patients_swap(paths): #swaps two green patients within the same route (path).\n",
    "    paths=paths\n",
    "    pos1=2295\n",
    "    pos2=2295\n",
    "    cnt=1\n",
    "    while cnt>0:\n",
    "        greens=[]\n",
    "        i=rnd.randint(len(paths.keys()))\n",
    "        for j in range(len(paths[i])):\n",
    "            if G[paths[i][j]].type==2:\n",
    "                greens.append(j) #index of green patients\n",
    "        if len(greens)>1:\n",
    "            while pos1==pos2:\n",
    "                pos1=greens[rnd.randint(len(greens))]\n",
    "                pos2=greens[rnd.randint(len(greens))]\n",
    "            paths[i]=swapPositions(paths[i],pos1,pos2) #swaps two green patients in a path, guarantee to still be feasible\n",
    "            sol=sol_from_paths(paths)\n",
    "            return sol,paths"
   ]
  },
  {
   "cell_type": "code",
   "execution_count": null,
   "metadata": {},
   "outputs": [],
   "source": []
  },
  {
   "cell_type": "code",
   "execution_count": 465,
   "metadata": {},
   "outputs": [],
   "source": [
    "def internal_patients_relocate(paths): #changes the position of a green patient within one route (path). it is not allowed to be inserted after a red patient\n",
    "    paths=paths\n",
    "    pos1=2295\n",
    "    pos2=2295\n",
    "    cnt=1\n",
    "    while cnt>0:\n",
    "        greens=[]\n",
    "        i=rnd.randint(len(paths.keys()))\n",
    "        for j in range(len(paths[i])):\n",
    "            if G[paths[i][j]].type==2:\n",
    "                greens.append(j) #index of green patients\n",
    "        if len(greens)>1:\n",
    "            while pos1==pos2: \n",
    "                pos1=greens[rnd.randint(len(greens))] #index: relocate from\n",
    "                pos2=greens[rnd.randint(len(greens))] #index: relocate to\n",
    "            paths[i].insert(pos2,paths[i].pop(pos1)) #relocates the green patient from pos1 to pos2, it guarantees feasibility because we never try swapping with red code\n",
    "            sol=sol_from_paths(paths)\n",
    "            return sol,paths"
   ]
  },
  {
   "cell_type": "code",
   "execution_count": 495,
   "metadata": {},
   "outputs": [
    {
     "name": "stdout",
     "output_type": "stream",
     "text": "87.95525136685568\n87.95525136685566\n{0: [0, 2, 9, 5, 0], 1: [0, 7, 3, 0], 2: [1, 8, 4, 6, 0]}\n"
    }
   ],
   "source": [
    "s0=[(0, 2), (0, 3),(1, 8), (2, 9), (3, 7), (4, 6), (5, 0), (6, 0), (7, 0), (8, 4), (9, 5)]\n",
    "cost_solution(s0)\n",
    "new_sol=internal_patients_relocate(extract_paths(s0)[1])\n",
    "cost_solution(new_sol[0])\n",
    "print(new_sol[1])\n"
   ]
  },
  {
   "cell_type": "code",
   "execution_count": 581,
   "metadata": {},
   "outputs": [],
   "source": [
    "def single_hospital_change(paths): #changes the destination hospital to an alternative hospital. We need to check feasibility for this one\n",
    "    paths=paths\n",
    "    hosp=[]\n",
    "    i=rnd.randint(len(paths.keys()))\n",
    "    for j in range(len(G)):\n",
    "        if G[j].type==1:\n",
    "            hosp.append(j)\n",
    "    current=paths[i][-1]\n",
    "    new=hosp[rnd.randint(len(hosp))]\n",
    "    while current==new:\n",
    "        new=hosp[rnd.randint(len(hosp))]\n",
    "    paths[i][-1]=new\n",
    "    sol=sol_from_paths(paths)\n",
    "    return sol,paths\n",
    "\n"
   ]
  },
  {
   "cell_type": "code",
   "execution_count": 592,
   "metadata": {},
   "outputs": [
    {
     "name": "stdout",
     "output_type": "stream",
     "text": "87.95525136685568\n81.99433840890948\n{0: [0, 2, 9, 5, 1], 1: [0, 3, 7, 0], 2: [1, 8, 4, 6, 0]}\n"
    }
   ],
   "source": [
    "s0=[(0, 2), (0, 3),(1, 8), (2, 9), (3, 7), (4, 6), (5, 0), (6, 0), (7, 0), (8, 4), (9, 5)]\n",
    "cost_solution(s0)\n",
    "new_sol=single_hospital_change(extract_paths(s0)[1])\n",
    "cost_solution(new_sol[0])\n",
    "print(new_sol[1])"
   ]
  },
  {
   "cell_type": "code",
   "execution_count": null,
   "metadata": {},
   "outputs": [],
   "source": []
  }
 ],
 "metadata": {
  "kernelspec": {
   "display_name": "Python 3",
   "language": "python",
   "name": "python3"
  },
  "language_info": {
   "codemirror_mode": {
    "name": "ipython",
    "version": 3
   },
   "file_extension": ".py",
   "mimetype": "text/x-python",
   "name": "python",
   "nbconvert_exporter": "python",
   "pygments_lexer": "ipython3",
   "version": "3.7.4"
  }
 },
 "nbformat": 4,
 "nbformat_minor": 2
}