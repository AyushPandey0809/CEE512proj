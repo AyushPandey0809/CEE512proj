{
 "cells": [
  {
   "cell_type": "code",
   "execution_count": 65,
   "metadata": {},
   "outputs": [],
   "source": [
    "from collections import defaultdict\n",
    "import numpy as np\n",
    "import math\n",
    "import matplotlib.pyplot as plt\n",
    "rnd = np.random\n",
    "rnd.seed(4)\n",
    "\n",
    "class node:\n",
    "    def __init__(self, x, y, type):\n",
    "        self.x = x\n",
    "        self.y = y\n",
    "        self.type = type\n",
    "        \n",
    "class edge:\n",
    "    def __init__(self, start, end):\n",
    "        self.start = start\n",
    "        self.end = end\n",
    "        self.cost = ((start.x-end.x)**2+(start.y-end.y)**2)**(1/2)\n",
    "        \n",
    "class sol:\n",
    "    def __init__(self, nodes, edges):\n",
    "        self.nodes = nodes      #array of nodes in solution\n",
    "        self.edges = edges      #array of edges in solution\n",
    "        self.total_cost = get_total_cost(self)\n",
    "        \n",
    "    def get_total_cost(self):\n",
    "        total = 0\n",
    "        for i in self.edges:\n",
    "            total = total + i.cost\n",
    "        return total\n",
    "    \n",
    "class partition:\n",
    "    def __init__(self, G, E):\n",
    "        self.G = G\n",
    "        self.E = E\n"
   ]
  },
  {
   "cell_type": "code",
   "execution_count": 66,
   "metadata": {},
   "outputs": [],
   "source": [
    "def generateProb(ng, nr, nh):\n",
    "    G = []\n",
    "    for i in range(nh):\n",
    "        G.append(node(rnd.randint(20), rnd.randint(20), 1))\n",
    "    for i in range(ng):\n",
    "        G.append(node(rnd.randint(20), rnd.randint(20), 2))\n",
    "    for i in range(nr):\n",
    "        G.append(node(rnd.randint(20), rnd.randint(20), 3))\n",
    "        \n",
    "    E = [edge(G[i], G[j]) for i in range(ng + nr + nh) for j in range(ng + nr + nh) if i!=j]\n",
    "    \n",
    "    prob = partition(G, E)\n",
    "    \n",
    "    return prob"
   ]
  },
  {
   "cell_type": "code",
   "execution_count": 67,
   "metadata": {},
   "outputs": [],
   "source": [
    "def get_part_h(G, E):\n",
    "    partitions = []\n",
    "    red = [x for x in G if x.type == 3]\n",
    "    green = [x for x in G if x.type == 2]\n",
    "    hosp = [x for x in G if x.type == 1]\n",
    "    part = []\n",
    "    for i in hosp:\n",
    "        part.append(partition([i], []))\n",
    "    maxr = math.ceil(len(red)/len(hosp))\n",
    "    maxg = math.ceil(len(green)/len(hosp))\n",
    "    for i in red:\n",
    "        d = [x.cost for x in E if x.start==i if x.end.type==1]\n",
    "        while True:\n",
    "            idx = np.argmin(d)\n",
    "            if (len(part[idx].G)) > maxr:\n",
    "                d[idx] = math.inf\n",
    "            else:\n",
    "                part[idx].G.append(i)\n",
    "                break\n",
    "    for i in green:\n",
    "        d = [x.cost for x in E if x.start==i if x.end.type==1]\n",
    "        while True:\n",
    "            idx = np.argmin(d)\n",
    "            if (len(part[idx].G)) > maxr + maxg:\n",
    "                d[idx] = math.inf\n",
    "            else:\n",
    "                part[idx].G.append(i)\n",
    "                break\n",
    "    for i in part:\n",
    "        i.E = [edge(k, l) for k in i.G for l in i.G if k!=l]\n",
    "    return part"
   ]
  },
  {
   "cell_type": "code",
   "execution_count": 68,
   "metadata": {},
   "outputs": [],
   "source": [
    "def get_route(G):\n",
    "    E = []\n",
    "    red = [x for x in G if x.type == 3]\n",
    "    green = [x for x in G if x.type == 2]\n",
    "    depot = [x for x in G if x.type == 1]\n",
    "    x = depot[0]\n",
    "    while len(green)>0:\n",
    "        e = [edge(x, i) for i in green]\n",
    "        d = [i.cost for i in e]\n",
    "        idx = np.argmin(d)\n",
    "        E.append(e[idx])\n",
    "        x = e[idx].end\n",
    "        green.remove(x)\n",
    "    E.append(edge(x, red[0]))\n",
    "    E.append(edge(red[0], depot[0]))\n",
    "        \n",
    "    return E"
   ]
  },
  {
   "cell_type": "code",
   "execution_count": 69,
   "metadata": {},
   "outputs": [],
   "source": [
    "def assign_in_partition(i):\n",
    "    \n",
    "    red = [x for x in i.G if x.type == 3]\n",
    "    green = [x for x in i.G if x.type == 2]\n",
    "    depot = [x for x in i.G if x.type == 1][0]\n",
    "    D = np.empty([len(green), len(red)])\n",
    "    for i in range(len(green)):\n",
    "        for j in range(len(red)):\n",
    "            D[i,j] = edge(depot, green[i]).cost + edge(green[i], red[j]).cost + edge(red[j], depot).cost - edge(depot, red[j]).cost - edge(red[i], depot).cost\n",
    "    x = np.zeros([len(green), len(red)])\n",
    "    for i in range(len(green)):\n",
    "        idx = np.argmin(D[i])\n",
    "        x[i][idx] = 1\n",
    "    routes = []\n",
    "    for i in range(len(red)):\n",
    "        G = [depot, red[i]]\n",
    "        a = x[:,i]\n",
    "        b = a == np.ones(len(a))\n",
    "        for j in range(len(a)):\n",
    "            if b[j]:\n",
    "                G.append(green[j])\n",
    "        E = get_route(G)\n",
    "        routes.append(partition(G, E))\n",
    "    return routes"
   ]
  },
  {
   "cell_type": "code",
   "execution_count": 70,
   "metadata": {},
   "outputs": [],
   "source": [
    "def heuristic(G, E):\n",
    "    routes = []\n",
    "    red = [x for x in G if x.type == 3]\n",
    "    green = [x for x in G if x.type == 2]\n",
    "    hosp = [x for x in G if x.type == 1]\n",
    "    partitions = get_part_h(G, E)\n",
    "    for i in partitions:\n",
    "        routes.append(assign_in_partition(i))\n",
    "    return routes"
   ]
  },
  {
   "cell_type": "code",
   "execution_count": 86,
   "metadata": {},
   "outputs": [
    {
     "ename": "ValueError",
     "evalue": "attempt to get argmin of an empty sequence",
     "output_type": "error",
     "traceback": [
      "\u001b[1;31m---------------------------------------------------------------------------\u001b[0m",
      "\u001b[1;31mValueError\u001b[0m                                Traceback (most recent call last)",
      "\u001b[1;32m<ipython-input-86-3739a5a38584>\u001b[0m in \u001b[0;36m<module>\u001b[1;34m\u001b[0m\n\u001b[0;32m      1\u001b[0m \u001b[0mprob\u001b[0m \u001b[1;33m=\u001b[0m \u001b[0mgenerateProb\u001b[0m\u001b[1;33m(\u001b[0m\u001b[1;36m12\u001b[0m\u001b[1;33m,\u001b[0m \u001b[1;36m2\u001b[0m\u001b[1;33m,\u001b[0m \u001b[1;36m3\u001b[0m\u001b[1;33m)\u001b[0m\u001b[1;33m\u001b[0m\u001b[0m\n\u001b[1;32m----> 2\u001b[1;33m \u001b[0ma\u001b[0m \u001b[1;33m=\u001b[0m \u001b[0mheuristic\u001b[0m\u001b[1;33m(\u001b[0m\u001b[0mprob\u001b[0m\u001b[1;33m.\u001b[0m\u001b[0mG\u001b[0m\u001b[1;33m,\u001b[0m \u001b[0mprob\u001b[0m\u001b[1;33m.\u001b[0m\u001b[0mE\u001b[0m\u001b[1;33m)\u001b[0m\u001b[1;33m\u001b[0m\u001b[0m\n\u001b[0m",
      "\u001b[1;32m<ipython-input-70-af804064d14d>\u001b[0m in \u001b[0;36mheuristic\u001b[1;34m(G, E)\u001b[0m\n\u001b[0;32m      6\u001b[0m     \u001b[0mpartitions\u001b[0m \u001b[1;33m=\u001b[0m \u001b[0mget_part_h\u001b[0m\u001b[1;33m(\u001b[0m\u001b[0mG\u001b[0m\u001b[1;33m,\u001b[0m \u001b[0mE\u001b[0m\u001b[1;33m)\u001b[0m\u001b[1;33m\u001b[0m\u001b[0m\n\u001b[0;32m      7\u001b[0m     \u001b[1;32mfor\u001b[0m \u001b[0mi\u001b[0m \u001b[1;32min\u001b[0m \u001b[0mpartitions\u001b[0m\u001b[1;33m:\u001b[0m\u001b[1;33m\u001b[0m\u001b[0m\n\u001b[1;32m----> 8\u001b[1;33m         \u001b[0mroutes\u001b[0m\u001b[1;33m.\u001b[0m\u001b[0mappend\u001b[0m\u001b[1;33m(\u001b[0m\u001b[0massign_in_partition\u001b[0m\u001b[1;33m(\u001b[0m\u001b[0mi\u001b[0m\u001b[1;33m)\u001b[0m\u001b[1;33m)\u001b[0m\u001b[1;33m\u001b[0m\u001b[0m\n\u001b[0m\u001b[0;32m      9\u001b[0m     \u001b[1;32mreturn\u001b[0m \u001b[0mroutes\u001b[0m\u001b[1;33m\u001b[0m\u001b[0m\n",
      "\u001b[1;32m<ipython-input-69-b5c4215b8150>\u001b[0m in \u001b[0;36massign_in_partition\u001b[1;34m(i)\u001b[0m\n\u001b[0;32m     10\u001b[0m     \u001b[0mx\u001b[0m \u001b[1;33m=\u001b[0m \u001b[0mnp\u001b[0m\u001b[1;33m.\u001b[0m\u001b[0mzeros\u001b[0m\u001b[1;33m(\u001b[0m\u001b[1;33m[\u001b[0m\u001b[0mlen\u001b[0m\u001b[1;33m(\u001b[0m\u001b[0mgreen\u001b[0m\u001b[1;33m)\u001b[0m\u001b[1;33m,\u001b[0m \u001b[0mlen\u001b[0m\u001b[1;33m(\u001b[0m\u001b[0mred\u001b[0m\u001b[1;33m)\u001b[0m\u001b[1;33m]\u001b[0m\u001b[1;33m)\u001b[0m\u001b[1;33m\u001b[0m\u001b[0m\n\u001b[0;32m     11\u001b[0m     \u001b[1;32mfor\u001b[0m \u001b[0mi\u001b[0m \u001b[1;32min\u001b[0m \u001b[0mrange\u001b[0m\u001b[1;33m(\u001b[0m\u001b[0mlen\u001b[0m\u001b[1;33m(\u001b[0m\u001b[0mgreen\u001b[0m\u001b[1;33m)\u001b[0m\u001b[1;33m)\u001b[0m\u001b[1;33m:\u001b[0m\u001b[1;33m\u001b[0m\u001b[0m\n\u001b[1;32m---> 12\u001b[1;33m         \u001b[0midx\u001b[0m \u001b[1;33m=\u001b[0m \u001b[0mnp\u001b[0m\u001b[1;33m.\u001b[0m\u001b[0margmin\u001b[0m\u001b[1;33m(\u001b[0m\u001b[0mD\u001b[0m\u001b[1;33m[\u001b[0m\u001b[0mi\u001b[0m\u001b[1;33m]\u001b[0m\u001b[1;33m)\u001b[0m\u001b[1;33m\u001b[0m\u001b[0m\n\u001b[0m\u001b[0;32m     13\u001b[0m         \u001b[0mx\u001b[0m\u001b[1;33m[\u001b[0m\u001b[0mi\u001b[0m\u001b[1;33m]\u001b[0m\u001b[1;33m[\u001b[0m\u001b[0midx\u001b[0m\u001b[1;33m]\u001b[0m \u001b[1;33m=\u001b[0m \u001b[1;36m1\u001b[0m\u001b[1;33m\u001b[0m\u001b[0m\n\u001b[0;32m     14\u001b[0m     \u001b[0mroutes\u001b[0m \u001b[1;33m=\u001b[0m \u001b[1;33m[\u001b[0m\u001b[1;33m]\u001b[0m\u001b[1;33m\u001b[0m\u001b[0m\n",
      "\u001b[1;32m~\\.julia\\conda\\3\\lib\\site-packages\\numpy\\core\\fromnumeric.py\u001b[0m in \u001b[0;36margmin\u001b[1;34m(a, axis, out)\u001b[0m\n\u001b[0;32m   1170\u001b[0m \u001b[1;33m\u001b[0m\u001b[0m\n\u001b[0;32m   1171\u001b[0m     \"\"\"\n\u001b[1;32m-> 1172\u001b[1;33m     \u001b[1;32mreturn\u001b[0m \u001b[0m_wrapfunc\u001b[0m\u001b[1;33m(\u001b[0m\u001b[0ma\u001b[0m\u001b[1;33m,\u001b[0m \u001b[1;34m'argmin'\u001b[0m\u001b[1;33m,\u001b[0m \u001b[0maxis\u001b[0m\u001b[1;33m=\u001b[0m\u001b[0maxis\u001b[0m\u001b[1;33m,\u001b[0m \u001b[0mout\u001b[0m\u001b[1;33m=\u001b[0m\u001b[0mout\u001b[0m\u001b[1;33m)\u001b[0m\u001b[1;33m\u001b[0m\u001b[0m\n\u001b[0m\u001b[0;32m   1173\u001b[0m \u001b[1;33m\u001b[0m\u001b[0m\n\u001b[0;32m   1174\u001b[0m \u001b[1;33m\u001b[0m\u001b[0m\n",
      "\u001b[1;32m~\\.julia\\conda\\3\\lib\\site-packages\\numpy\\core\\fromnumeric.py\u001b[0m in \u001b[0;36m_wrapfunc\u001b[1;34m(obj, method, *args, **kwds)\u001b[0m\n\u001b[0;32m     54\u001b[0m \u001b[1;32mdef\u001b[0m \u001b[0m_wrapfunc\u001b[0m\u001b[1;33m(\u001b[0m\u001b[0mobj\u001b[0m\u001b[1;33m,\u001b[0m \u001b[0mmethod\u001b[0m\u001b[1;33m,\u001b[0m \u001b[1;33m*\u001b[0m\u001b[0margs\u001b[0m\u001b[1;33m,\u001b[0m \u001b[1;33m**\u001b[0m\u001b[0mkwds\u001b[0m\u001b[1;33m)\u001b[0m\u001b[1;33m:\u001b[0m\u001b[1;33m\u001b[0m\u001b[0m\n\u001b[0;32m     55\u001b[0m     \u001b[1;32mtry\u001b[0m\u001b[1;33m:\u001b[0m\u001b[1;33m\u001b[0m\u001b[0m\n\u001b[1;32m---> 56\u001b[1;33m         \u001b[1;32mreturn\u001b[0m \u001b[0mgetattr\u001b[0m\u001b[1;33m(\u001b[0m\u001b[0mobj\u001b[0m\u001b[1;33m,\u001b[0m \u001b[0mmethod\u001b[0m\u001b[1;33m)\u001b[0m\u001b[1;33m(\u001b[0m\u001b[1;33m*\u001b[0m\u001b[0margs\u001b[0m\u001b[1;33m,\u001b[0m \u001b[1;33m**\u001b[0m\u001b[0mkwds\u001b[0m\u001b[1;33m)\u001b[0m\u001b[1;33m\u001b[0m\u001b[0m\n\u001b[0m\u001b[0;32m     57\u001b[0m \u001b[1;33m\u001b[0m\u001b[0m\n\u001b[0;32m     58\u001b[0m     \u001b[1;31m# An AttributeError occurs if the object does not have\u001b[0m\u001b[1;33m\u001b[0m\u001b[1;33m\u001b[0m\u001b[0m\n",
      "\u001b[1;31mValueError\u001b[0m: attempt to get argmin of an empty sequence"
     ]
    }
   ],
   "source": [
    "prob = generateProb(12, 2, 3)\n",
    "a = heuristic(prob.G, prob.E)"
   ]
  },
  {
   "cell_type": "code",
   "execution_count": 82,
   "metadata": {},
   "outputs": [
    {
     "name": "stdout",
     "output_type": "stream",
     "text": [
      "9\n"
     ]
    }
   ],
   "source": [
    "print(a[0][0].E[0].start.x)"
   ]
  },
  {
   "cell_type": "code",
   "execution_count": 83,
   "metadata": {},
   "outputs": [],
   "source": [
    "s0=[(0,3), (3, 9),(9, 0), (0, 2), (2, 5), (5, 7), (7, 0), (0, 6), (6, 4), (4, 8), (8, 1)]\n",
    "def plotting(sol):\n",
    "    for i in G:\n",
    "        if i.type==1:\n",
    "            plt.scatter(i.x,i.y,c='y')\n",
    "        elif i.type==2:\n",
    "             plt.scatter(i.x,i.y,c='g')\n",
    "        else:\n",
    "             plt.scatter(i.x,i.y,c='r')\n",
    "\n",
    "    for i,j in s0:\n",
    "        plt.plot([G[i].x, G[j].x], [G[i].y,G[j].y],c='b', alpha=0.5)\n",
    "    for i in range(len(G)):\n",
    "        plt.annotate((i),(G[i].x+0.1,G[i].y+0.1))\n",
    "    plt.axis('equal')"
   ]
  },
  {
   "cell_type": "code",
   "execution_count": 84,
   "metadata": {},
   "outputs": [],
   "source": [
    "def plot_partition(p):\n",
    "    for i in p.G:\n",
    "        if i.type == 1:\n",
    "            plt.scatter(i.x, i.y, c = 'y')\n",
    "        elif i.type == 2:\n",
    "            plt.scatter(i.x, i.y, c = 'g')\n",
    "        else:\n",
    "            plt.scatter(i.x, i.y, c = 'r')\n",
    "            \n",
    "    for k in p.E:\n",
    "        plt.plot([k.start.x, k.end.x], [k.start.y, k.end.y], c = 'b', alpha = 0.5)\n",
    "    plt.axis('equal')"
   ]
  },
  {
   "cell_type": "code",
   "execution_count": 85,
   "metadata": {},
   "outputs": [
    {
     "data": {
      "image/png": "[encoded data removed]",
      "text/plain": [
       "<Figure size 432x288 with 1 Axes>"
      ]
     },
     "metadata": {
      "needs_background": "light"
     },
     "output_type": "display_data"
    }
   ],
   "source": [
    "plot_partition(a[0][0])"
   ]
  },
  {
   "cell_type": "code",
   "execution_count": null,
   "metadata": {},
   "outputs": [],
   "source": []
  }
 ],
 "metadata": {
  "kernelspec": {
   "display_name": "Python 3",
   "language": "python",
   "name": "python3"
  },
  "language_info": {
   "codemirror_mode": {
    "name": "ipython",
    "version": 3
   },
   "file_extension": ".py",
   "mimetype": "text/x-python",
   "name": "python",
   "nbconvert_exporter": "python",
   "pygments_lexer": "ipython3",
   "version": "3.6.5"
  }
 },
 "nbformat": 4,
 "nbformat_minor": 2
}
