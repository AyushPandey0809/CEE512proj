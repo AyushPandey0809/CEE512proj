{
 "cells": [
  {
   "cell_type": "code",
   "execution_count": 18,
   "metadata": {},
   "outputs": [],
   "source": [
    "from collections import defaultdict\n",
    "import numpy as np\n",
    "import math\n",
    "import matplotlib.pyplot as plt\n",
    "rnd = np.random\n",
    "rnd.seed(4)\n",
    "\n",
    "class node:\n",
    "    def __init__(self, x, y, type):\n",
    "        self.x = x\n",
    "        self.y = y\n",
    "        self.type = type\n",
    "        \n",
    "class edge:\n",
    "    def __init__(self, start, end):\n",
    "        self.start = start\n",
    "        self.end = end\n",
    "        self.cost = ((start.x-end.x)**2+(start.y-end.y)**2)**(1/2)\n",
    "        \n",
    "class sol:\n",
    "    def __init__(self, nodes, edges):\n",
    "        self.nodes = nodes      #array of nodes in solution\n",
    "        self.edges = edges      #array of edges in solution\n",
    "        self.total_cost = get_total_cost(self)\n",
    "        \n",
    "    def get_total_cost(self):\n",
    "        total = 0\n",
    "        for i in self.edges:\n",
    "            total = total + i.cost\n",
    "        return total\n",
    "    \n",
    "class partition:\n",
    "    def __init__(self, G, E):\n",
    "        self.G = G\n",
    "        self.E = E\n"
   ]
  },
  {
   "cell_type": "code",
   "execution_count": 19,
   "metadata": {},
   "outputs": [],
   "source": [
    "def generateProb(ng, nr, nh):\n",
    "    G = []\n",
    "    for i in range(nh):\n",
    "        G.append(node(rnd.randint(20), rnd.randint(20), 1))\n",
    "    for i in range(ng):\n",
    "        G.append(node(rnd.randint(20), rnd.randint(20), 2))\n",
    "    for i in range(nr):\n",
    "        G.append(node(rnd.randint(20), rnd.randint(20), 3))\n",
    "        \n",
    "    E = [edge(G[i], G[j]) for i in range(ng + nr + nh) for j in range(ng + nr + nh) if i!=j]\n",
    "    \n",
    "    prob = partition(G, E)\n",
    "    \n",
    "    return prob"
   ]
  },
  {
   "cell_type": "code",
   "execution_count": 20,
   "metadata": {},
   "outputs": [],
   "source": [
    "def get_part_h(G, E):\n",
    "    partitions = []\n",
    "    red = [x for x in G if x.type == 3]\n",
    "    green = [x for x in G if x.type == 2]\n",
    "    hosp = [x for x in G if x.type == 1]\n",
    "    part = []\n",
    "    for i in hosp:\n",
    "        part.append(partition([i], []))\n",
    "    maxr = math.ceil(len(red)/len(hosp))\n",
    "    maxg = math.ceil(len(green)/len(hosp))\n",
    "    for i in red:\n",
    "        d = [x.cost for x in E if x.start==i if x.end.type==1]\n",
    "        while True:\n",
    "            idx = np.argmin(d)\n",
    "            if (len(part[idx].G)) > maxr:\n",
    "                d[idx] = math.inf\n",
    "            else:\n",
    "                part[idx].G.append(i)\n",
    "                break\n",
    "    for i in green:\n",
    "        d = [x.cost for x in E if x.start==i if x.end.type==1]\n",
    "        while True:\n",
    "            idx = np.argmin(d)\n",
    "            if (len(part[idx].G)) > maxr + maxg:\n",
    "                d[idx] = math.inf\n",
    "            else:\n",
    "                part[idx].G.append(i)\n",
    "                break\n",
    "    for i in part:\n",
    "        i.E = [edge(k, l) for k in i.G for l in i.G if k!=l]\n",
    "    return part"
   ]
  },
  {
   "cell_type": "code",
   "execution_count": 21,
   "metadata": {},
   "outputs": [],
   "source": [
    "def get_route(G):\n",
    "    E = []\n",
    "    red = [x for x in G if x.type == 3]\n",
    "    green = [x for x in G if x.type == 2]\n",
    "    depot = [x for x in G if x.type == 1]\n",
    "    x = depot[0]\n",
    "    while len(green)>0:\n",
    "        e = [edge(x, i) for i in green]\n",
    "        d = [i.cost for i in e]\n",
    "        idx = argmin(d)\n",
    "        E.append(e[idx])\n",
    "        x = e[idx].end\n",
    "        green.remove(x)\n",
    "    E.append(edge(x, red[0]))\n",
    "        \n",
    "    return E"
   ]
  },
  {
   "cell_type": "code",
   "execution_count": 22,
   "metadata": {},
   "outputs": [],
   "source": [
    "def assign_in_partition(i):\n",
    "    \n",
    "    red = [x for x in i.G if x.type == 3]\n",
    "    green = [x for x in i.G if x.type == 2]\n",
    "    depot = [x for x in i.G if x.type == 1]\n",
    "    D = np.empty([len(green), len(red)])\n",
    "    for i in red:\n",
    "        for j in green:\n",
    "            D[j][i] = [edge(depot, j).cost + edge(j, i).cost + edge(i, depot).cost - edge(depot, i).cost - edge(i, depot).cost]\n",
    "    x = np.zeros([len(green), len(red)])\n",
    "    for i in range(len(green)):\n",
    "        idx = argmin(D[i])\n",
    "        x[i][idx] = 1\n",
    "    routes = []\n",
    "    for i in range(len(red)):\n",
    "        G = [depot[0], red[i]]\n",
    "        a = x[:,i]\n",
    "        b = a == np.ones(len(a))\n",
    "        for j in range(len(a)):\n",
    "            if b[j]:\n",
    "                G.append(green[j])\n",
    "        E = get_route(G)\n",
    "        routes.append(partition(G, E))\n",
    "    return routes"
   ]
  },
  {
   "cell_type": "code",
   "execution_count": 23,
   "metadata": {},
   "outputs": [],
   "source": [
    "def heuristic(G, E):\n",
    "    routes = []\n",
    "    red = [x for x in G if x.type == 3]\n",
    "    green = [x for x in G if x.type == 2]\n",
    "    hosp = [x for x in G if x.type == 1]\n",
    "    partitions = get_part_h(G, E)\n",
    "    for i in partitions:\n",
    "        routes.append(assign_in_partition(i))\n",
    "    return routes"
   ]
  },
  {
   "cell_type": "code",
   "execution_count": 24,
   "metadata": {},
   "outputs": [
    {
     "ename": "AttributeError",
     "evalue": "'list' object has no attribute 'x'",
     "output_type": "error",
     "traceback": [
      "\u001b[1;31m---------------------------------------------------------------------------\u001b[0m",
      "\u001b[1;31mAttributeError\u001b[0m                            Traceback (most recent call last)",
      "\u001b[1;32m<ipython-input-24-89345802f26f>\u001b[0m in \u001b[0;36m<module>\u001b[1;34m\u001b[0m\n\u001b[0;32m      1\u001b[0m \u001b[0mprob\u001b[0m \u001b[1;33m=\u001b[0m \u001b[0mgenerateProb\u001b[0m\u001b[1;33m(\u001b[0m\u001b[1;36m6\u001b[0m\u001b[1;33m,\u001b[0m \u001b[1;36m2\u001b[0m\u001b[1;33m,\u001b[0m \u001b[1;36m2\u001b[0m\u001b[1;33m)\u001b[0m\u001b[1;33m\u001b[0m\u001b[0m\n\u001b[1;32m----> 2\u001b[1;33m \u001b[0ma\u001b[0m \u001b[1;33m=\u001b[0m \u001b[0mheuristic\u001b[0m\u001b[1;33m(\u001b[0m\u001b[0mprob\u001b[0m\u001b[1;33m.\u001b[0m\u001b[0mG\u001b[0m\u001b[1;33m,\u001b[0m \u001b[0mprob\u001b[0m\u001b[1;33m.\u001b[0m\u001b[0mE\u001b[0m\u001b[1;33m)\u001b[0m\u001b[1;33m\u001b[0m\u001b[0m\n\u001b[0m",
      "\u001b[1;32m<ipython-input-23-af804064d14d>\u001b[0m in \u001b[0;36mheuristic\u001b[1;34m(G, E)\u001b[0m\n\u001b[0;32m      6\u001b[0m     \u001b[0mpartitions\u001b[0m \u001b[1;33m=\u001b[0m \u001b[0mget_part_h\u001b[0m\u001b[1;33m(\u001b[0m\u001b[0mG\u001b[0m\u001b[1;33m,\u001b[0m \u001b[0mE\u001b[0m\u001b[1;33m)\u001b[0m\u001b[1;33m\u001b[0m\u001b[0m\n\u001b[0;32m      7\u001b[0m     \u001b[1;32mfor\u001b[0m \u001b[0mi\u001b[0m \u001b[1;32min\u001b[0m \u001b[0mpartitions\u001b[0m\u001b[1;33m:\u001b[0m\u001b[1;33m\u001b[0m\u001b[0m\n\u001b[1;32m----> 8\u001b[1;33m         \u001b[0mroutes\u001b[0m\u001b[1;33m.\u001b[0m\u001b[0mappend\u001b[0m\u001b[1;33m(\u001b[0m\u001b[0massign_in_partition\u001b[0m\u001b[1;33m(\u001b[0m\u001b[0mi\u001b[0m\u001b[1;33m)\u001b[0m\u001b[1;33m)\u001b[0m\u001b[1;33m\u001b[0m\u001b[0m\n\u001b[0m\u001b[0;32m      9\u001b[0m     \u001b[1;32mreturn\u001b[0m \u001b[0mroutes\u001b[0m\u001b[1;33m\u001b[0m\u001b[0m\n",
      "\u001b[1;32m<ipython-input-22-8db0c95883ce>\u001b[0m in \u001b[0;36massign_in_partition\u001b[1;34m(i)\u001b[0m\n\u001b[0;32m      7\u001b[0m     \u001b[1;32mfor\u001b[0m \u001b[0mi\u001b[0m \u001b[1;32min\u001b[0m \u001b[0mred\u001b[0m\u001b[1;33m:\u001b[0m\u001b[1;33m\u001b[0m\u001b[0m\n\u001b[0;32m      8\u001b[0m         \u001b[1;32mfor\u001b[0m \u001b[0mj\u001b[0m \u001b[1;32min\u001b[0m \u001b[0mgreen\u001b[0m\u001b[1;33m:\u001b[0m\u001b[1;33m\u001b[0m\u001b[0m\n\u001b[1;32m----> 9\u001b[1;33m             \u001b[0mD\u001b[0m\u001b[1;33m[\u001b[0m\u001b[0mj\u001b[0m\u001b[1;33m]\u001b[0m\u001b[1;33m[\u001b[0m\u001b[0mi\u001b[0m\u001b[1;33m]\u001b[0m \u001b[1;33m=\u001b[0m \u001b[1;33m[\u001b[0m\u001b[0medge\u001b[0m\u001b[1;33m(\u001b[0m\u001b[0mdepot\u001b[0m\u001b[1;33m,\u001b[0m \u001b[0mj\u001b[0m\u001b[1;33m)\u001b[0m\u001b[1;33m.\u001b[0m\u001b[0mcost\u001b[0m \u001b[1;33m+\u001b[0m \u001b[0medge\u001b[0m\u001b[1;33m(\u001b[0m\u001b[0mj\u001b[0m\u001b[1;33m,\u001b[0m \u001b[0mi\u001b[0m\u001b[1;33m)\u001b[0m\u001b[1;33m.\u001b[0m\u001b[0mcost\u001b[0m \u001b[1;33m+\u001b[0m \u001b[0medge\u001b[0m\u001b[1;33m(\u001b[0m\u001b[0mi\u001b[0m\u001b[1;33m,\u001b[0m \u001b[0mdepot\u001b[0m\u001b[1;33m)\u001b[0m\u001b[1;33m.\u001b[0m\u001b[0mcost\u001b[0m \u001b[1;33m-\u001b[0m \u001b[0medge\u001b[0m\u001b[1;33m(\u001b[0m\u001b[0mdepot\u001b[0m\u001b[1;33m,\u001b[0m \u001b[0mi\u001b[0m\u001b[1;33m)\u001b[0m\u001b[1;33m.\u001b[0m\u001b[0mcost\u001b[0m \u001b[1;33m-\u001b[0m \u001b[0medge\u001b[0m\u001b[1;33m(\u001b[0m\u001b[0mi\u001b[0m\u001b[1;33m,\u001b[0m \u001b[0mdepot\u001b[0m\u001b[1;33m)\u001b[0m\u001b[1;33m.\u001b[0m\u001b[0mcost\u001b[0m\u001b[1;33m]\u001b[0m\u001b[1;33m\u001b[0m\u001b[0m\n\u001b[0m\u001b[0;32m     10\u001b[0m     \u001b[0mx\u001b[0m \u001b[1;33m=\u001b[0m \u001b[0mnp\u001b[0m\u001b[1;33m.\u001b[0m\u001b[0mzeros\u001b[0m\u001b[1;33m(\u001b[0m\u001b[1;33m[\u001b[0m\u001b[0mlen\u001b[0m\u001b[1;33m(\u001b[0m\u001b[0mgreen\u001b[0m\u001b[1;33m)\u001b[0m\u001b[1;33m,\u001b[0m \u001b[0mlen\u001b[0m\u001b[1;33m(\u001b[0m\u001b[0mred\u001b[0m\u001b[1;33m)\u001b[0m\u001b[1;33m]\u001b[0m\u001b[1;33m)\u001b[0m\u001b[1;33m\u001b[0m\u001b[0m\n\u001b[0;32m     11\u001b[0m     \u001b[1;32mfor\u001b[0m \u001b[0mi\u001b[0m \u001b[1;32min\u001b[0m \u001b[0mrange\u001b[0m\u001b[1;33m(\u001b[0m\u001b[0mlen\u001b[0m\u001b[1;33m(\u001b[0m\u001b[0mgreen\u001b[0m\u001b[1;33m)\u001b[0m\u001b[1;33m)\u001b[0m\u001b[1;33m:\u001b[0m\u001b[1;33m\u001b[0m\u001b[0m\n",
      "\u001b[1;32m<ipython-input-18-09752dbc114c>\u001b[0m in \u001b[0;36m__init__\u001b[1;34m(self, start, end)\u001b[0m\n\u001b[0;32m     16\u001b[0m         \u001b[0mself\u001b[0m\u001b[1;33m.\u001b[0m\u001b[0mstart\u001b[0m \u001b[1;33m=\u001b[0m \u001b[0mstart\u001b[0m\u001b[1;33m\u001b[0m\u001b[0m\n\u001b[0;32m     17\u001b[0m         \u001b[0mself\u001b[0m\u001b[1;33m.\u001b[0m\u001b[0mend\u001b[0m \u001b[1;33m=\u001b[0m \u001b[0mend\u001b[0m\u001b[1;33m\u001b[0m\u001b[0m\n\u001b[1;32m---> 18\u001b[1;33m         \u001b[0mself\u001b[0m\u001b[1;33m.\u001b[0m\u001b[0mcost\u001b[0m \u001b[1;33m=\u001b[0m \u001b[1;33m(\u001b[0m\u001b[1;33m(\u001b[0m\u001b[0mstart\u001b[0m\u001b[1;33m.\u001b[0m\u001b[0mx\u001b[0m\u001b[1;33m-\u001b[0m\u001b[0mend\u001b[0m\u001b[1;33m.\u001b[0m\u001b[0mx\u001b[0m\u001b[1;33m)\u001b[0m\u001b[1;33m**\u001b[0m\u001b[1;36m2\u001b[0m\u001b[1;33m+\u001b[0m\u001b[1;33m(\u001b[0m\u001b[0mstart\u001b[0m\u001b[1;33m.\u001b[0m\u001b[0my\u001b[0m\u001b[1;33m-\u001b[0m\u001b[0mend\u001b[0m\u001b[1;33m.\u001b[0m\u001b[0my\u001b[0m\u001b[1;33m)\u001b[0m\u001b[1;33m**\u001b[0m\u001b[1;36m2\u001b[0m\u001b[1;33m)\u001b[0m\u001b[1;33m**\u001b[0m\u001b[1;33m(\u001b[0m\u001b[1;36m1\u001b[0m\u001b[1;33m/\u001b[0m\u001b[1;36m2\u001b[0m\u001b[1;33m)\u001b[0m\u001b[1;33m\u001b[0m\u001b[0m\n\u001b[0m\u001b[0;32m     19\u001b[0m \u001b[1;33m\u001b[0m\u001b[0m\n\u001b[0;32m     20\u001b[0m \u001b[1;32mclass\u001b[0m \u001b[0msol\u001b[0m\u001b[1;33m:\u001b[0m\u001b[1;33m\u001b[0m\u001b[0m\n",
      "\u001b[1;31mAttributeError\u001b[0m: 'list' object has no attribute 'x'"
     ]
    }
   ],
   "source": [
    "prob = generateProb(6, 2, 2)\n",
    "a = heuristic(prob.G, prob.E)"
   ]
  },
  {
   "cell_type": "code",
   "execution_count": 7,
   "metadata": {},
   "outputs": [
    {
     "name": "stdout",
     "output_type": "stream",
     "text": [
      "[<__main__.partition object at 0x000002218F700CF8>, <__main__.partition object at 0x000002218F73B1D0>]\n",
      "[<__main__.node object at 0x000002218F700D30>, <__main__.node object at 0x000002218F73C080>, <__main__.node object at 0x000002218F700D68>, <__main__.node object at 0x000002218F700978>, <__main__.node object at 0x000002218F73C048>] [<__main__.edge object at 0x000002218F73BF98>, <__main__.edge object at 0x000002218F73BCC0>, <__main__.edge object at 0x000002218F73BE10>, <__main__.edge object at 0x000002218F73BE80>, <__main__.edge object at 0x000002218F73BCF8>, <__main__.edge object at 0x000002218F73B908>, <__main__.edge object at 0x000002218F73B4A8>, <__main__.edge object at 0x000002218F73BE48>, <__main__.edge object at 0x000002218F73BEF0>, <__main__.edge object at 0x000002218F73BEB8>, <__main__.edge object at 0x000002218F73BF28>, <__main__.edge object at 0x000002218F73BD30>, <__main__.edge object at 0x000002218F73B518>, <__main__.edge object at 0x000002218F73B940>, <__main__.edge object at 0x000002218F73B9E8>, <__main__.edge object at 0x000002218F73B780>, <__main__.edge object at 0x000002218F73BDD8>, <__main__.edge object at 0x000002218F73BD68>, <__main__.edge object at 0x000002218F73BAC8>, <__main__.edge object at 0x000002218F73B4E0>]\n",
      "[<__main__.node object at 0x000002218F7000F0>, <__main__.node object at 0x000002218F73C0B8>, <__main__.node object at 0x000002218F7006A0>, <__main__.node object at 0x000002218F7004A8>, <__main__.node object at 0x000002218F73C0F0>] [<__main__.edge object at 0x000002218F73B978>, <__main__.edge object at 0x000002218F73B550>, <__main__.edge object at 0x000002218F73B9B0>, <__main__.edge object at 0x000002218F73B898>, <__main__.edge object at 0x000002218F73BFD0>, <__main__.edge object at 0x000002218F73BDA0>, <__main__.edge object at 0x000002218F73B390>, <__main__.edge object at 0x000002218F73B208>, <__main__.edge object at 0x000002218F73B048>, <__main__.edge object at 0x000002218F6E7A90>, <__main__.edge object at 0x000002218F6E7978>, <__main__.edge object at 0x000002218F6E7A58>, <__main__.edge object at 0x000002218F6E7CC0>, <__main__.edge object at 0x000002218F6E7DD8>, <__main__.edge object at 0x000002218F6E79B0>, <__main__.edge object at 0x000002218F6E7B70>, <__main__.edge object at 0x000002218F6E77B8>, <__main__.edge object at 0x000002218F6E7470>, <__main__.edge object at 0x00000221914BA208>, <__main__.edge object at 0x00000221914BA240>]\n"
     ]
    }
   ],
   "source": [
    "print(a)\n",
    "for i in a:\n",
    "    print(i.G, i.E)"
   ]
  },
  {
   "cell_type": "code",
   "execution_count": null,
   "metadata": {},
   "outputs": [],
   "source": [
    "s0=[(0,3), (3, 9),(9, 0), (0, 2), (2, 5), (5, 7), (7, 0), (0, 6), (6, 4), (4, 8), (8, 1)]\n",
    "def plotting(sol):\n",
    "    for i in G:\n",
    "        if i.type==1:\n",
    "            plt.scatter(i.x,i.y,c='y')\n",
    "        elif i.type==2:\n",
    "             plt.scatter(i.x,i.y,c='g')\n",
    "        else:\n",
    "             plt.scatter(i.x,i.y,c='r')\n",
    "\n",
    "    for i,j in s0:\n",
    "        plt.plot([G[i].x, G[j].x], [G[i].y,G[j].y],c='b', alpha=0.5)\n",
    "    for i in range(len(G)):\n",
    "        plt.annotate((i),(G[i].x+0.1,G[i].y+0.1))\n",
    "    plt.axis('equal')"
   ]
  }
 ],
 "metadata": {
  "kernelspec": {
   "display_name": "Python 3",
   "language": "python",
   "name": "python3"
  },
  "language_info": {
   "codemirror_mode": {
    "name": "ipython",
    "version": 3
   },
   "file_extension": ".py",
   "mimetype": "text/x-python",
   "name": "python",
   "nbconvert_exporter": "python",
   "pygments_lexer": "ipython3",
   "version": "3.6.5"
  }
 },
 "nbformat": 4,
 "nbformat_minor": 2
}
